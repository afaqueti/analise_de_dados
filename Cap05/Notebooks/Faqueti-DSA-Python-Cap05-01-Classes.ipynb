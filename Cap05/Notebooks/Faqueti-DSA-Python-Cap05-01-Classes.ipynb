{
 "cells": [
  {
   "cell_type": "markdown",
   "metadata": {},
   "source": [
    "### Classes"
   ]
  },
  {
   "cell_type": "code",
   "execution_count": 13,
   "metadata": {},
   "outputs": [],
   "source": [
    "# Criando uma Classe chamada livro\n",
    "class Livro():\n",
    "    \n",
    "    def __init__(self):\n",
    "        self.titulo = 'Primeira Classe o livro'\n",
    "        self.isbn = 9777777\n",
    "        print('Construtor chamdo para criar um objeto dessa classe:')\n",
    "        \n",
    "    def imprime(self):\n",
    "        print('Foi criado o livro {} e ISBN {}'.format(self.titulo,self.isbn))\n",
    "        "
   ]
  },
  {
   "cell_type": "code",
   "execution_count": 14,
   "metadata": {},
   "outputs": [
    {
     "name": "stdout",
     "output_type": "stream",
     "text": [
      "Construtor chamdo para criar um objeto dessa classe:\n"
     ]
    }
   ],
   "source": [
    "# Criando uma instância do objeto\n",
    "livro1 = Livro()"
   ]
  },
  {
   "cell_type": "code",
   "execution_count": 19,
   "metadata": {},
   "outputs": [
    {
     "data": {
      "text/plain": [
       "'Primeira Classe o livro'"
      ]
     },
     "execution_count": 19,
     "metadata": {},
     "output_type": "execute_result"
    }
   ],
   "source": [
    "# Atributo do objeto Livro1\n",
    "livro1.titulo"
   ]
  },
  {
   "cell_type": "code",
   "execution_count": 16,
   "metadata": {},
   "outputs": [
    {
     "name": "stdout",
     "output_type": "stream",
     "text": [
      "Foi criado o livro Primeira Classe o livro e ISBN 9777777\n"
     ]
    }
   ],
   "source": [
    "livro1.imprime()"
   ]
  },
  {
   "cell_type": "code",
   "execution_count": 34,
   "metadata": {},
   "outputs": [],
   "source": [
    "# Criando uma classe livro com parametros no método construtor\n",
    "class Livro():\n",
    "    def __init__(self,titulo,isbn,autor):\n",
    "        self.titulo = titulo\n",
    "        self.isbn = isbn\n",
    "        self.autor = autor\n",
    "        print('Construtor chamado para criar um objero classe:')\n",
    "    \n",
    "    def imp(self,titulo,isbn,autor):\n",
    "        print('Foi criado o livro {} \\nISBN {} \\ndo autor {}'.format(titulo,isbn,autor))"
   ]
  },
  {
   "cell_type": "code",
   "execution_count": 35,
   "metadata": {},
   "outputs": [
    {
     "name": "stdout",
     "output_type": "stream",
     "text": [
      "Construtor chamado para criar um objero classe:\n"
     ]
    }
   ],
   "source": [
    "# Criando um objeto para Livro2 que é uma instância da classe livro\n",
    "livro2 = Livro('Python Fundamentos',7777,'Nicolas Faqueti')"
   ]
  },
  {
   "cell_type": "code",
   "execution_count": 32,
   "metadata": {},
   "outputs": [
    {
     "data": {
      "text/plain": [
       "'Nicolas Faqueti'"
      ]
     },
     "execution_count": 32,
     "metadata": {},
     "output_type": "execute_result"
    }
   ],
   "source": [
    "livro2.autor"
   ]
  },
  {
   "cell_type": "code",
   "execution_count": 36,
   "metadata": {},
   "outputs": [
    {
     "name": "stdout",
     "output_type": "stream",
     "text": [
      "Foi criado o livro Python Fundamentos \n",
      "ISBN 7777 \n",
      "do autor Nicolas Faqueti\n"
     ]
    }
   ],
   "source": [
    "livro2.imp(livro2.titulo,livro2.isbn,livro2.autor)"
   ]
  },
  {
   "cell_type": "code",
   "execution_count": 38,
   "metadata": {},
   "outputs": [],
   "source": [
    "# Criando uma classe cachoro\n",
    "class Cachorro():\n",
    "    def __init__(self,raca):\n",
    "        self.raca = raca\n",
    "        print('Construtor cirado para classe Cachoro:')\n",
    "        "
   ]
  },
  {
   "cell_type": "code",
   "execution_count": 39,
   "metadata": {},
   "outputs": [
    {
     "name": "stdout",
     "output_type": "stream",
     "text": [
      "Construtor cirado para classe Cachoro:\n"
     ]
    }
   ],
   "source": [
    "Rex = Cachorro(raca='Vira Lata')"
   ]
  },
  {
   "cell_type": "code",
   "execution_count": 40,
   "metadata": {},
   "outputs": [
    {
     "data": {
      "text/plain": [
       "'Vira Lata'"
      ]
     },
     "execution_count": 40,
     "metadata": {},
     "output_type": "execute_result"
    }
   ],
   "source": [
    "Rex.raca"
   ]
  },
  {
   "cell_type": "code",
   "execution_count": 41,
   "metadata": {},
   "outputs": [
    {
     "name": "stdout",
     "output_type": "stream",
     "text": [
      "Construtor cirado para classe Cachoro:\n"
     ]
    }
   ],
   "source": [
    "Bolinha = Cachorro(raca='Pudol')"
   ]
  },
  {
   "cell_type": "code",
   "execution_count": 42,
   "metadata": {},
   "outputs": [
    {
     "data": {
      "text/plain": [
       "'Pudol'"
      ]
     },
     "execution_count": 42,
     "metadata": {},
     "output_type": "execute_result"
    }
   ],
   "source": [
    "Bolinha.raca"
   ]
  },
  {
   "cell_type": "code",
   "execution_count": null,
   "metadata": {},
   "outputs": [],
   "source": []
  }
 ],
 "metadata": {
  "kernelspec": {
   "display_name": "Python 3",
   "language": "python",
   "name": "python3"
  },
  "language_info": {
   "codemirror_mode": {
    "name": "ipython",
    "version": 3
   },
   "file_extension": ".py",
   "mimetype": "text/x-python",
   "name": "python",
   "nbconvert_exporter": "python",
   "pygments_lexer": "ipython3",
   "version": "3.7.3"
  }
 },
 "nbformat": 4,
 "nbformat_minor": 2
}
