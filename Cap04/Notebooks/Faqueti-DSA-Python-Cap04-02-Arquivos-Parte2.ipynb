{
 "cells": [
  {
   "cell_type": "markdown",
   "metadata": {},
   "source": [
    "### Manipulação de Arquivo"
   ]
  },
  {
   "cell_type": "markdown",
   "metadata": {},
   "source": [
    "- Arquivos TXT\n",
    "- Arquivos CSV \n",
    "- Arquivos JSON"
   ]
  },
  {
   "cell_type": "markdown",
   "metadata": {},
   "source": [
    "### Manipulação de Arquivo .TXT"
   ]
  },
  {
   "cell_type": "code",
   "execution_count": 3,
   "metadata": {},
   "outputs": [],
   "source": [
    "texto = \"Cientista de Dados é a profissão que mais tem crescido em todo mundo.\\n\"\n",
    "texto = texto + \"Esses profissionais precisam se especializar em Programação, Estatística e Machine Learning.\\n\"\n",
    "texto += \"E claro, em Big Data.\""
   ]
  },
  {
   "cell_type": "code",
   "execution_count": 4,
   "metadata": {},
   "outputs": [
    {
     "name": "stdout",
     "output_type": "stream",
     "text": [
      "Cientista de Dados é a profissão que mais tem crescido em todo mundo.\n",
      "Esses profissionais precisam se especializar em Programação, Estatística e Machine Learning.\n",
      "E claro, em Big Data.\n"
     ]
    }
   ],
   "source": [
    "print(texto)"
   ]
  },
  {
   "cell_type": "code",
   "execution_count": 5,
   "metadata": {},
   "outputs": [],
   "source": [
    "# Importantdo o módulo (OS) - Serve para manipulação de arquivos e outros \n",
    "import os"
   ]
  },
  {
   "cell_type": "code",
   "execution_count": 6,
   "metadata": {},
   "outputs": [],
   "source": [
    "# Criando um arquivo \n",
    "arquivo = open(os.path.join('arquivos/cientista02.txt'),'w')"
   ]
  },
  {
   "cell_type": "code",
   "execution_count": 7,
   "metadata": {},
   "outputs": [],
   "source": [
    "for palav in texto.split():\n",
    "    arquivo.write(palav+' ')\n",
    "    "
   ]
  },
  {
   "cell_type": "code",
   "execution_count": 8,
   "metadata": {},
   "outputs": [],
   "source": [
    "# Fechar o arquivo\n",
    "arquivo.close()"
   ]
  },
  {
   "cell_type": "code",
   "execution_count": 9,
   "metadata": {},
   "outputs": [
    {
     "name": "stdout",
     "output_type": "stream",
     "text": [
      "Cientista de Dados é a profissão que mais tem crescido em todo mundo. Esses profissionais precisam se especializar em Programação, Estatística e Machine Learning. E claro, em Big Data. \n"
     ]
    }
   ],
   "source": [
    "arquivo = open('arquivos/cientista02.txt', 'r')\n",
    "conteudo = arquivo.read()\n",
    "arquivo.close()\n",
    "print(conteudo)"
   ]
  },
  {
   "cell_type": "markdown",
   "metadata": {},
   "source": [
    "### Usando a expressão with"
   ]
  },
  {
   "cell_type": "code",
   "execution_count": 20,
   "metadata": {},
   "outputs": [],
   "source": [
    "with open('arquivos/cientista02.txt','r') as arquivo2:\n",
    "    conteudo = arquivo2.read()"
   ]
  },
  {
   "cell_type": "code",
   "execution_count": 21,
   "metadata": {},
   "outputs": [
    {
     "name": "stdout",
     "output_type": "stream",
     "text": [
      "185\n"
     ]
    }
   ],
   "source": [
    "print(len(conteudo))"
   ]
  },
  {
   "cell_type": "code",
   "execution_count": 22,
   "metadata": {},
   "outputs": [
    {
     "name": "stdout",
     "output_type": "stream",
     "text": [
      "Cientista de Dados é a profissão que mais tem crescido em todo mundo. Esses profissionais precisam se especializar em Programação, Estatística e Machine Learning. E claro, em Big Data. \n"
     ]
    }
   ],
   "source": [
    "print(conteudo)"
   ]
  },
  {
   "cell_type": "code",
   "execution_count": 27,
   "metadata": {},
   "outputs": [],
   "source": [
    "# Montando um aquivo texto, (formatando)\n",
    "with open('arquivos/cientista02.txt','w') as arquivo03: # ira definir qual arquivo sera gravado, conforme o alias(arquivo03).\n",
    "    arquivo03.write(texto[:21]) # O arquivo03 será gravado com os 21 primeiros caracteres.\n",
    "    arquivo03.write('\\n')  # linha ira definir que após 21 caracteres ele ira pular uma linha conforme o (\\n)\n",
    "    arquivo03.write(texto[:33])  # O arquivo03 será gravado com os 33 primeiros caracteres, após a quebra de linha."
   ]
  },
  {
   "cell_type": "code",
   "execution_count": 26,
   "metadata": {},
   "outputs": [
    {
     "name": "stdout",
     "output_type": "stream",
     "text": [
      "Cientista de Dados é \n",
      "Cientista de Dados é a profissão \n"
     ]
    }
   ],
   "source": [
    "# Ler o arquivo formatado, conforme codigo acima\n",
    "arquivo03 = open('arquivos/cientista02.txt', 'r')\n",
    "ler = arquivo03.read()\n",
    "arquivo03.close()\n",
    "\n",
    "print(ler)"
   ]
  },
  {
   "cell_type": "markdown",
   "metadata": {},
   "source": [
    "### Manipulando arquivos CSV(comma-separated values)"
   ]
  },
  {
   "cell_type": "code",
   "execution_count": 28,
   "metadata": {},
   "outputs": [],
   "source": [
    "# Importando o módulo CSV\n",
    "import csv"
   ]
  },
  {
   "cell_type": "code",
   "execution_count": 42,
   "metadata": {},
   "outputs": [],
   "source": [
    "# Gravando dados nas tuplas() e linhas do arquivo CSV\n",
    "with open('arquivos/numeros.csv','w') as arquivo:\n",
    "    w = csv.writer(arquivo)\n",
    "    w.writerow(('primeira','segunda','terceria'))\n",
    "    w.writerow((55,93,76))\n",
    "    w.writerow((9000,140,1000))"
   ]
  },
  {
   "cell_type": "code",
   "execution_count": 34,
   "metadata": {},
   "outputs": [
    {
     "name": "stdout",
     "output_type": "stream",
     "text": [
      "Numero de colunas 3\n",
      "['primeira', 'segunda', 'terceria']\n",
      "Numero de colunas 3\n",
      "['55', '93', '76']\n",
      "Numero de colunas 3\n",
      "['90', '14', '10']\n"
     ]
    }
   ],
   "source": [
    "# Leitura do arquivo CSV\n",
    "with open('arquivos/numeros.csv','r') as arquivo:\n",
    "    leitor = csv.reader(arquivo)\n",
    "    for x in leitor:\n",
    "        print('Numero de colunas',len(x))\n",
    "        print(x)"
   ]
  },
  {
   "cell_type": "markdown",
   "metadata": {},
   "source": [
    "### Gerando uma lista com dados do arquivo CSV"
   ]
  },
  {
   "cell_type": "code",
   "execution_count": 52,
   "metadata": {},
   "outputs": [
    {
     "name": "stdout",
     "output_type": "stream",
     "text": [
      "[['primeira', 'segunda', 'terceria'], ['55', '93', '76'], ['9000', '140', '1000']]\n"
     ]
    }
   ],
   "source": [
    "with open('arquivos/numeros.csv','r')as arquivo:\n",
    "    lei = csv.reader(arquivo)\n",
    "    dados = list(lei)\n",
    "print(dados)"
   ]
  },
  {
   "cell_type": "code",
   "execution_count": 57,
   "metadata": {},
   "outputs": [
    {
     "name": "stdout",
     "output_type": "stream",
     "text": [
      "['55', '93', '76']\n",
      "['9000', '140', '1000']\n"
     ]
    }
   ],
   "source": [
    "# Imprimindo a partir da sgunda linha\n",
    "for linha in dados[1:]:\n",
    "    print(linha)"
   ]
  },
  {
   "cell_type": "code",
   "execution_count": 35,
   "metadata": {},
   "outputs": [],
   "source": [
    "import pandas as pd"
   ]
  },
  {
   "cell_type": "code",
   "execution_count": 43,
   "metadata": {},
   "outputs": [],
   "source": [
    "filename = 'arquivos/numeros.csv'"
   ]
  },
  {
   "cell_type": "code",
   "execution_count": 44,
   "metadata": {},
   "outputs": [],
   "source": [
    "c = pd.read_csv(filename)"
   ]
  },
  {
   "cell_type": "code",
   "execution_count": 48,
   "metadata": {},
   "outputs": [
    {
     "data": {
      "text/html": [
       "<div>\n",
       "<style scoped>\n",
       "    .dataframe tbody tr th:only-of-type {\n",
       "        vertical-align: middle;\n",
       "    }\n",
       "\n",
       "    .dataframe tbody tr th {\n",
       "        vertical-align: top;\n",
       "    }\n",
       "\n",
       "    .dataframe thead th {\n",
       "        text-align: right;\n",
       "    }\n",
       "</style>\n",
       "<table border=\"1\" class=\"dataframe\">\n",
       "  <thead>\n",
       "    <tr style=\"text-align: right;\">\n",
       "      <th></th>\n",
       "      <th>primeira</th>\n",
       "      <th>segunda</th>\n",
       "      <th>terceria</th>\n",
       "    </tr>\n",
       "  </thead>\n",
       "  <tbody>\n",
       "    <tr>\n",
       "      <th>0</th>\n",
       "      <td>55</td>\n",
       "      <td>93</td>\n",
       "      <td>76</td>\n",
       "    </tr>\n",
       "    <tr>\n",
       "      <th>1</th>\n",
       "      <td>9000</td>\n",
       "      <td>140</td>\n",
       "      <td>1000</td>\n",
       "    </tr>\n",
       "  </tbody>\n",
       "</table>\n",
       "</div>"
      ],
      "text/plain": [
       "   primeira  segunda  terceria\n",
       "0        55       93        76\n",
       "1      9000      140      1000"
      ]
     },
     "execution_count": 48,
     "metadata": {},
     "output_type": "execute_result"
    }
   ],
   "source": [
    "c.head()"
   ]
  },
  {
   "cell_type": "code",
   "execution_count": null,
   "metadata": {},
   "outputs": [],
   "source": []
  }
 ],
 "metadata": {
  "kernelspec": {
   "display_name": "Python 3",
   "language": "python",
   "name": "python3"
  },
  "language_info": {
   "codemirror_mode": {
    "name": "ipython",
    "version": 3
   },
   "file_extension": ".py",
   "mimetype": "text/x-python",
   "name": "python",
   "nbconvert_exporter": "python",
   "pygments_lexer": "ipython3",
   "version": "3.7.3"
  }
 },
 "nbformat": 4,
 "nbformat_minor": 2
}
