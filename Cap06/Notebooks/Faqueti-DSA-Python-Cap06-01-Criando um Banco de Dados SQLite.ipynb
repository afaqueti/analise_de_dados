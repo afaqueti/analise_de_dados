{
 "cells": [
  {
   "cell_type": "markdown",
   "metadata": {},
   "source": [
    "### Acessando banco de dados com Pyhton"
   ]
  },
  {
   "cell_type": "code",
   "execution_count": 1,
   "metadata": {},
   "outputs": [],
   "source": [
    "# comando para verificar se existe algum banco com o mesmo nome ja configurado\n",
    "import os\n",
    "os.remove('faqescola') if os.path.exists('faqescola') else None"
   ]
  },
  {
   "cell_type": "code",
   "execution_count": 2,
   "metadata": {},
   "outputs": [],
   "source": [
    "# Importando o módulo de acesso ao SQLITE\n",
    "import sqlite3"
   ]
  },
  {
   "cell_type": "code",
   "execution_count": 5,
   "metadata": {},
   "outputs": [],
   "source": [
    "# Criar uma conexão com o Banco de Dados\n",
    "# Se não existir o banco, esse comando irá criar através da solicitação de conexão\n",
    "# Caso queira indicar uma outra pasta para gerar o banco de dados é somente, definir o caminho no parametro conect(c:/teste/faqescola), neste\n",
    "# caso do codigo abaixo o jupyter notebook irá definir o banco na pasta que esta sendo gerado o comando.\n",
    "con = sqlite3.connect('faqescola.db')"
   ]
  },
  {
   "cell_type": "code",
   "execution_count": 6,
   "metadata": {},
   "outputs": [
    {
     "data": {
      "text/plain": [
       "sqlite3.Connection"
      ]
     },
     "execution_count": 6,
     "metadata": {},
     "output_type": "execute_result"
    }
   ],
   "source": [
    "type(con)"
   ]
  },
  {
   "cell_type": "code",
   "execution_count": 7,
   "metadata": {},
   "outputs": [],
   "source": [
    "# Criar um cursor permite percorer todos os registros em um conjunto de dados\n",
    "cur = con.cursor()"
   ]
  },
  {
   "cell_type": "code",
   "execution_count": 8,
   "metadata": {},
   "outputs": [
    {
     "data": {
      "text/plain": [
       "sqlite3.Cursor"
      ]
     },
     "execution_count": 8,
     "metadata": {},
     "output_type": "execute_result"
    }
   ],
   "source": [
    "type(cur)"
   ]
  },
  {
   "cell_type": "code",
   "execution_count": 9,
   "metadata": {},
   "outputs": [],
   "source": [
    "# Criando uma instrução sql para criar tabela\n",
    "sql_create = 'create table cursos' \\\n",
    "             '(id integer primary key,'\\\n",
    "             'titulo varchar(100),'\\\n",
    "             'categoria varchar(140))'"
   ]
  },
  {
   "cell_type": "code",
   "execution_count": 10,
   "metadata": {},
   "outputs": [
    {
     "data": {
      "text/plain": [
       "<sqlite3.Cursor at 0x7fb651146ce0>"
      ]
     },
     "execution_count": 10,
     "metadata": {},
     "output_type": "execute_result"
    }
   ],
   "source": [
    "# Executando a instrução sql no cursor\n",
    "cur.execute(sql_create)"
   ]
  },
  {
   "cell_type": "code",
   "execution_count": 14,
   "metadata": {},
   "outputs": [],
   "source": [
    "# Criando uma sentença sql para inserir dados na tabela cursos\n",
    "sql_insert = 'insert into cursos values(?,?,?)'"
   ]
  },
  {
   "cell_type": "code",
   "execution_count": 12,
   "metadata": {},
   "outputs": [],
   "source": [
    "# Dados de registros serão definidos através de uma lista\n",
    "recset = [(1000,'Ciências de Dados','Data Science'),\n",
    "         (1001,'Big Data Fundamentos','Big Data'),\n",
    "         (1002,'Python fundamentos','Análise de Dados')]"
   ]
  },
  {
   "cell_type": "code",
   "execution_count": 13,
   "metadata": {},
   "outputs": [
    {
     "data": {
      "text/plain": [
       "[(1000, 'Ciências de Dados', 'Data Science'),\n",
       " (1001, 'Big Data Fundamentos', 'Big Data'),\n",
       " (1002, 'Python fundamentos', 'Análise de Dados')]"
      ]
     },
     "execution_count": 13,
     "metadata": {},
     "output_type": "execute_result"
    }
   ],
   "source": [
    "recset"
   ]
  },
  {
   "cell_type": "code",
   "execution_count": 15,
   "metadata": {},
   "outputs": [],
   "source": [
    "# Inserindo os registros\n",
    "for rec in recset:\n",
    "    cur.execute(sql_insert,rec)"
   ]
  },
  {
   "cell_type": "code",
   "execution_count": 16,
   "metadata": {},
   "outputs": [],
   "source": [
    "# Gravando Transação\n",
    "con.commit()"
   ]
  },
  {
   "cell_type": "code",
   "execution_count": 17,
   "metadata": {},
   "outputs": [],
   "source": [
    "sql_select = 'select * from cursos'"
   ]
  },
  {
   "cell_type": "code",
   "execution_count": 20,
   "metadata": {},
   "outputs": [],
   "source": [
    "# seleciona todos os registros e recupera os dados\n",
    "cur.execute(sql_select)\n",
    "dados = cur.fetchall()"
   ]
  },
  {
   "cell_type": "code",
   "execution_count": 40,
   "metadata": {},
   "outputs": [
    {
     "name": "stdout",
     "output_type": "stream",
     "text": [
      "Curso ID: 1000, Titulo: Ciências de Dados, Categoria: 'Data Science' \n",
      "\n",
      "Curso ID: 1001, Titulo: Big Data Fundamentos, Categoria: 'Big Data' \n",
      "\n",
      "Curso ID: 1002, Titulo: Python fundamentos, Categoria: 'An\\xe1lise de Dados' \n",
      "\n"
     ]
    }
   ],
   "source": [
    "for linha in dados:\n",
    "    #print ('Curso Id: %a, Título: %s, Categoria: %s \\n' % linha)\n",
    "    print('Curso ID: %a, Titulo: %s, Categoria: %a \\n'% linha)"
   ]
  },
  {
   "cell_type": "code",
   "execution_count": 32,
   "metadata": {},
   "outputs": [],
   "source": [
    "recset = [(1003,'Gestão de dados com MongoDB','Big Data'),\n",
    "         (1004,'R Fundamentos','Análise de Dados')]"
   ]
  },
  {
   "cell_type": "code",
   "execution_count": 33,
   "metadata": {},
   "outputs": [],
   "source": [
    "for rec in recset:\n",
    "    cur.execute(sql_insert,rec)"
   ]
  },
  {
   "cell_type": "code",
   "execution_count": 34,
   "metadata": {},
   "outputs": [],
   "source": [
    "con.commit()"
   ]
  },
  {
   "cell_type": "code",
   "execution_count": 63,
   "metadata": {},
   "outputs": [
    {
     "name": "stdout",
     "output_type": "stream",
     "text": [
      "Curso ID: 1000, Titulo: Ciências de Dados, Categoria: Data Science \n",
      "\n",
      "Curso ID: 1001, Titulo: Big Data Fundamentos, Categoria: Big Data \n",
      "\n",
      "Curso ID: 1002, Titulo: Python fundamentos, Categoria: Análise de Dados \n",
      "\n",
      "Curso ID: 1003, Titulo: Gestão de dados com MongoDB, Categoria: Big Data \n",
      "\n",
      "Curso ID: 1004, Titulo: R Fundamentos, Categoria: Análise de Dados \n",
      "\n"
     ]
    }
   ],
   "source": [
    "cur.execute('select * from cursos')\n",
    "\n",
    "#recset = cur.fetchall()\n",
    "\n",
    "# Cria uma lista para identificar se conforme select seria possivel gera os registro dentro de uma lista, se sim o ceu \n",
    "# é o limite.\n",
    "etl = []\n",
    "\n",
    "for l in cur.fetchall():\n",
    "    print('Curso ID: %d, Titulo: %s, Categoria: %s \\n'% l)\n",
    "    etl.append(l)"
   ]
  },
  {
   "cell_type": "code",
   "execution_count": 64,
   "metadata": {},
   "outputs": [
    {
     "data": {
      "text/plain": [
       "[(1000, 'Ciências de Dados', 'Data Science'),\n",
       " (1001, 'Big Data Fundamentos', 'Big Data'),\n",
       " (1002, 'Python fundamentos', 'Análise de Dados'),\n",
       " (1003, 'Gestão de dados com MongoDB', 'Big Data'),\n",
       " (1004, 'R Fundamentos', 'Análise de Dados')]"
      ]
     },
     "execution_count": 64,
     "metadata": {},
     "output_type": "execute_result"
    }
   ],
   "source": [
    "etl"
   ]
  },
  {
   "cell_type": "code",
   "execution_count": null,
   "metadata": {},
   "outputs": [],
   "source": []
  }
 ],
 "metadata": {
  "kernelspec": {
   "display_name": "Python 3",
   "language": "python",
   "name": "python3"
  },
  "language_info": {
   "codemirror_mode": {
    "name": "ipython",
    "version": 3
   },
   "file_extension": ".py",
   "mimetype": "text/x-python",
   "name": "python",
   "nbconvert_exporter": "python",
   "pygments_lexer": "ipython3",
   "version": "3.7.3"
  }
 },
 "nbformat": 4,
 "nbformat_minor": 2
}
