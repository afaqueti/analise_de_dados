{
 "cells": [
  {
   "cell_type": "markdown",
   "metadata": {},
   "source": [
    "### Criando banco de dados e inserindo dados"
   ]
  },
  {
   "cell_type": "code",
   "execution_count": 29,
   "metadata": {},
   "outputs": [],
   "source": [
    "# Criando um banco de dados\n",
    "import sqlite3\n",
    "\n",
    "# Gerando uma connexão\n",
    "conn = sqlite3.connect('faqdsa.db')\n",
    "\n",
    "\n",
    "# Gerando um cursor\n",
    "c = conn.cursor()\n",
    "\n",
    "# Função para criar tabela\n",
    "def table():\n",
    "    c.execute('create table if not exists produtos(id integer primary key autoincrement not null, data text, '\\\n",
    "              'prod_name text, valor real)')\n",
    "\n",
    "# Função para inserir a linha\n",
    "def data():\n",
    "    c.execute(\"insert into produtos values(12,'2018-05-03 14:32:11','Teclado',700)\")\n",
    "    conn.commit()\n",
    "   # c.close()\n",
    "    #conn.close()\n",
    "    \n",
    "    "
   ]
  },
  {
   "cell_type": "code",
   "execution_count": 14,
   "metadata": {},
   "outputs": [],
   "source": [
    "table()"
   ]
  },
  {
   "cell_type": "code",
   "execution_count": 30,
   "metadata": {},
   "outputs": [],
   "source": [
    "data()"
   ]
  },
  {
   "cell_type": "code",
   "execution_count": null,
   "metadata": {},
   "outputs": [],
   "source": [
    "conn = sqlite3.connect('faqdsa.db')"
   ]
  },
  {
   "cell_type": "code",
   "execution_count": 16,
   "metadata": {},
   "outputs": [],
   "source": [
    "sql_registor = 'select * from produtos'"
   ]
  },
  {
   "cell_type": "code",
   "execution_count": 31,
   "metadata": {},
   "outputs": [
    {
     "name": "stdout",
     "output_type": "stream",
     "text": [
      "(10, '2018-05-02 14:32:11', 'Teclado', 90.0)\n",
      "(11, '2018-05-03 14:32:11', 'Teclado', 1000.0)\n",
      "(12, '2018-05-03 14:32:11', 'Teclado', 700.0)\n"
     ]
    }
   ],
   "source": [
    "#conn.execute(sql_registor)\n",
    "\n",
    "for i in conn.execute(sql_registor):\n",
    "    print(i)"
   ]
  },
  {
   "cell_type": "code",
   "execution_count": null,
   "metadata": {},
   "outputs": [],
   "source": []
  }
 ],
 "metadata": {
  "kernelspec": {
   "display_name": "Python 3",
   "language": "python",
   "name": "python3"
  },
  "language_info": {
   "codemirror_mode": {
    "name": "ipython",
    "version": 3
   },
   "file_extension": ".py",
   "mimetype": "text/x-python",
   "name": "python",
   "nbconvert_exporter": "python",
   "pygments_lexer": "ipython3",
   "version": "3.7.3"
  }
 },
 "nbformat": 4,
 "nbformat_minor": 2
}
