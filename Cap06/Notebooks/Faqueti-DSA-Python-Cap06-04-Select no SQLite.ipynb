{
 "cells": [
  {
   "cell_type": "markdown",
   "metadata": {},
   "source": [
    "### Leitura dos Dados"
   ]
  },
  {
   "cell_type": "code",
   "execution_count": 7,
   "metadata": {},
   "outputs": [],
   "source": [
    "import random\n",
    "import datetime\n",
    "import time\n",
    "import sqlite3\n",
    "\n",
    "# Criar uma conexão\n",
    "con = sqlite3.connect('faqdsa.db')\n",
    "\n",
    "# Cria um cursor\n",
    "c = con.cursor()\n",
    "\n",
    "# Função para criar uma tabela\n",
    "def criarTabela():\n",
    "    c.execute('CREATE TABLE IF NOT EXISTS'\\\n",
    "             '(id INTEGER PRIMARY KEY AUTOINCREMENT NOT NULL'\\\n",
    "             'data TEXT'\\\n",
    "             'prod_name TEXT'\\\n",
    "             'valor REAL)')\n",
    "\n",
    "# Criar Registro, usando variaveis\n",
    "def criarRegistro():\n",
    "    new_data = datetime.datetime.now()\n",
    "    new_prod_name = 'Fonte'\n",
    "    new_valor = random.randrange(50,100)   \n",
    "    c.execute(\"INSERT INTO produtos(data, prod_name, valor) VALUES (?, ?, ?)\",(new_data, new_prod_name, new_valor))\n",
    "    con.commit()\n",
    "\n",
    "# Leitura de Dados referente a tabela\n",
    "def leituraDados():\n",
    "    c.execute('select * from produtos')\n",
    "    for linha in c.fetchall():\n",
    "        print(linha)\n",
    "\n",
    "        \n",
    "# Leitura de dados com where\n",
    "def leituraDadosWhere():\n",
    "    c.execute(\"select * from produtos where prod_name = 'Placa'\")\n",
    "    for linha in c.fetchall():\n",
    "        print(linha)\n",
    "        \n",
    "# Leitura da coluna especifica\n",
    "def leituraColuna():\n",
    "    c.execute('select * from produtos')\n",
    "    for linha in c.fetchall():\n",
    "        print(linha[2])\n",
    "\n",
    "              "
   ]
  },
  {
   "cell_type": "code",
   "execution_count": 11,
   "metadata": {},
   "outputs": [
    {
     "name": "stdout",
     "output_type": "stream",
     "text": [
      "(24, '2019-08-19 16:36:48.857194', 'Placa', 88.0)\n",
      "(25, '2019-08-19 16:36:49.864216', 'Placa', 84.0)\n",
      "(26, '2019-08-19 16:36:50.872758', 'Placa', 97.0)\n",
      "(27, '2019-08-19 16:36:51.880706', 'Placa', 69.0)\n",
      "(28, '2019-08-19 16:36:52.888326', 'Placa', 98.0)\n",
      "(29, '2019-08-19 16:36:54.048288', 'Placa', 52.0)\n",
      "(30, '2019-08-19 16:36:55.055990', 'Placa', 70.0)\n",
      "(31, '2019-08-19 16:36:56.064281', 'Placa', 65.0)\n",
      "(32, '2019-08-19 16:36:57.072693', 'Placa', 99.0)\n",
      "(33, '2019-08-19 16:36:58.079420', 'Placa', 62.0)\n"
     ]
    }
   ],
   "source": [
    "leituraDadosWhere()"
   ]
  },
  {
   "cell_type": "code",
   "execution_count": 8,
   "metadata": {},
   "outputs": [
    {
     "name": "stdout",
     "output_type": "stream",
     "text": [
      "Teclado\n",
      "Teclado\n",
      "Teclado\n",
      "Fonte\n",
      "Fonte\n",
      "Fonte\n",
      "Fonte\n",
      "Fonte\n",
      "Fonte\n",
      "Fonte\n",
      "Fonte\n",
      "Fonte\n",
      "Fonte\n",
      "Fonte\n",
      "Placa\n",
      "Placa\n",
      "Placa\n",
      "Placa\n",
      "Placa\n",
      "Placa\n",
      "Placa\n",
      "Placa\n",
      "Placa\n",
      "Placa\n",
      "Mouse\n",
      "Mouse\n",
      "Mouse\n",
      "Pelicula\n",
      "Pelicula\n",
      "Pelicula\n",
      "Pelicula\n"
     ]
    }
   ],
   "source": [
    "leituraColuna()"
   ]
  },
  {
   "cell_type": "code",
   "execution_count": null,
   "metadata": {},
   "outputs": [],
   "source": []
  }
 ],
 "metadata": {
  "kernelspec": {
   "display_name": "Python 3",
   "language": "python",
   "name": "python3"
  },
  "language_info": {
   "codemirror_mode": {
    "name": "ipython",
    "version": 3
   },
   "file_extension": ".py",
   "mimetype": "text/x-python",
   "name": "python",
   "nbconvert_exporter": "python",
   "pygments_lexer": "ipython3",
   "version": "3.7.3"
  }
 },
 "nbformat": 4,
 "nbformat_minor": 2
}
