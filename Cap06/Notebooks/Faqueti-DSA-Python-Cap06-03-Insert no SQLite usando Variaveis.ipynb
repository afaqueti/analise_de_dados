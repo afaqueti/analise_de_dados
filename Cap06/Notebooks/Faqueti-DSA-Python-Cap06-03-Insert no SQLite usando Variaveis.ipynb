{
 "cells": [
  {
   "cell_type": "markdown",
   "metadata": {},
   "source": [
    "### Inserindo Dados com Variáveis"
   ]
  },
  {
   "cell_type": "code",
   "execution_count": 9,
   "metadata": {},
   "outputs": [],
   "source": [
    "import sqlite3\n",
    "import time\n",
    "import datetime\n",
    "import random\n",
    "\n",
    "# Criando uma conexão\n",
    "con = sqlite3.connect('faqdsa.db')\n",
    "\n",
    "# Criando um cursor\n",
    "c = con.cursor()\n",
    "\n",
    "# Função para criar uma tabela\n",
    "def criar_table():\n",
    "    c.execute('create table if not exists produtos(id integer primary key autoincrement not null,'\\\n",
    "              'data text,'\\\n",
    "              'prod_name text,'\\\n",
    "              'valor real)')\n",
    "    \n",
    "    \n",
    "    \n",
    "    \n",
    "def criar_registro():\n",
    "    c.execute(\"INSERT INTO produtos VALUES('2017-05-02 12:34:45', 'Teclado', 150.00 )\")\n",
    "    \n",
    "\n",
    "# Usando Variaveis para inserir Dados\n",
    "def criar_regVariavl():\n",
    "    new_data = datetime.datetime.now()\n",
    "    new_prod_name = 'Fonte'\n",
    "    new_valor = random.randrange(50,100)   \n",
    "    c.execute(\"INSERT INTO produtos(data, prod_name, valor) VALUES (?, ?, ?)\",(new_data, new_prod_name, new_valor))\n",
    "    con.commit()\n",
    "    \n",
    "\n",
    "    "
   ]
  },
  {
   "cell_type": "code",
   "execution_count": 12,
   "metadata": {},
   "outputs": [
    {
     "name": "stdin",
     "output_type": "stream",
     "text": [
      "Digite um Produto: Placa\n",
      "Digite a quantidade de produtos: 20\n"
     ]
    }
   ],
   "source": [
    "newProd = str(input('Digite um Produto:'))\n",
    "quantiProd = int(input('Digite a quantidade de produtos:'))\n",
    "\n",
    "def newRegistro():\n",
    "    new_data = datetime.datetime.now()\n",
    "    new_prod_name = newProd\n",
    "    new_valor = random.randrange(50,100)\n",
    "    c.execute(\"INSERT INTO produtos(data, prod_name, valor) VALUES (?, ?, ?)\",(new_data, new_prod_name, new_valor))\n",
    "    con.commit()\n",
    "\n",
    "for i in range(quantiProd):\n",
    "    newRegistro()\n",
    "    #time.sleep(1)\n"
   ]
  },
  {
   "cell_type": "code",
   "execution_count": 13,
   "metadata": {},
   "outputs": [],
   "source": [
    "# Grando valores na tabela\n",
    "for i in range(10):\n",
    "    criar_regVariavl()\n",
    "    time.sleep(1)\n",
    "    "
   ]
  },
  {
   "cell_type": "code",
   "execution_count": 10,
   "metadata": {},
   "outputs": [],
   "source": [
    "criar_table()"
   ]
  },
  {
   "cell_type": "code",
   "execution_count": 11,
   "metadata": {},
   "outputs": [],
   "source": [
    "criar_regVariavl()"
   ]
  },
  {
   "cell_type": "code",
   "execution_count": null,
   "metadata": {},
   "outputs": [],
   "source": []
  }
 ],
 "metadata": {
  "kernelspec": {
   "display_name": "Python 3",
   "language": "python",
   "name": "python3"
  },
  "language_info": {
   "codemirror_mode": {
    "name": "ipython",
    "version": 3
   },
   "file_extension": ".py",
   "mimetype": "text/x-python",
   "name": "python",
   "nbconvert_exporter": "python",
   "pygments_lexer": "ipython3",
   "version": "3.7.3"
  }
 },
 "nbformat": 4,
 "nbformat_minor": 2
}
