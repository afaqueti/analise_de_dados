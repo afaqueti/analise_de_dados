{
 "cells": [
  {
   "cell_type": "markdown",
   "metadata": {},
   "source": [
    "### Graficos"
   ]
  },
  {
   "cell_type": "code",
   "execution_count": 38,
   "metadata": {},
   "outputs": [],
   "source": [
    "import random\n",
    "import datetime\n",
    "import time\n",
    "import sqlite3\n",
    "import matplotlib.pyplot as plt\n",
    "# comando abaixo serve para gerar o grafico dentro do notebook jupyter que esta sendo executado o codigo\n",
    "#%matplotlib notebook # não está funcionando no jupyter notebook\n",
    "#%matplotlib inline\n",
    "\n",
    "# Criar uma conexão\n",
    "con = sqlite3.connect('faqdsa.db')\n",
    "\n",
    "# Cria um cursor\n",
    "c = con.cursor()\n",
    "\n",
    "# Função para criar uma tabela\n",
    "def criarTabela():\n",
    "    c.execute('CREATE TABLE IF NOT EXISTS produtos(id INTEGER PRIMARY KEY AUTOINCREMENT NOT NULL, data TEXT, '\\\n",
    "              'prod_name TEXT, valor REAL)')\n",
    "\n",
    "# Criar Registro, usando variaveis\n",
    "def criarRegistro():\n",
    "    new_data = datetime.datetime.now()\n",
    "    new_prod_name = 'Fonte'\n",
    "    new_valor = random.randrange(50,100)   \n",
    "    c.execute(\"INSERT INTO produtos(data, prod_name, valor) VALUES (?, ?, ?)\",(new_data, new_prod_name, new_valor))\n",
    "    con.commit()\n",
    "    \n",
    "\n",
    "# Leitura de Dados referente a tabela\n",
    "def leituraDados():\n",
    "    c.execute('select id,valor from produtos')\n",
    "    for linha in c.fetchall():\n",
    "        print(linha)\n",
    "\n",
    "        \n",
    "# Leitura de dados com where\n",
    "def leituraDadosWhere():\n",
    "    c.execute(\"select * from produtos where id in (22,28)\")\n",
    "    for linha in c.fetchall():\n",
    "        print(linha)\n",
    "        \n",
    "# Leitura da coluna especifica\n",
    "def leituraColuna():\n",
    "    c.execute('select * from produtos')\n",
    "    for linha in c.fetchall():\n",
    "        print(linha[2])\n",
    "\n",
    "\n",
    "# Update\n",
    "def geraUpd():\n",
    "    c.execute('update produtos set valor = 70.0 where valor = 55.0')\n",
    "    con.commit()\n",
    "\n",
    "\n",
    "def eftDelete():\n",
    "    c.execute('delete from produtos where id in(1,2)')\n",
    "    con.commit()\n",
    "    \n",
    "# Gerar dados no banco de dados\n",
    "def graficoDados():\n",
    "    c.execute('select id,valor from produtos where valor > 60.0 ')\n",
    "    ids = []\n",
    "    valores = []\n",
    "    dados = c.fetchall()\n",
    "    for linha in dados:\n",
    "        ids.append(linha[0])\n",
    "        valores.append(linha[1])\n",
    "    plt.bar(ids,valores)\n",
    "    # plt.bar(ids,valores,label = 'Barrar1', color = 'r')\n",
    "    # plt.bar(ids,valores,label = 'Barrar1', color = 'y')\n",
    "    # plt.legend()\n",
    "    plt.show()\n",
    "    "
   ]
  },
  {
   "cell_type": "code",
   "execution_count": 39,
   "metadata": {},
   "outputs": [
    {
     "data": {
      "image/png": "[encoded data removed]",
      "text/plain": [
       "<Figure size 432x288 with 1 Axes>"
      ]
     },
     "metadata": {
      "needs_background": "light"
     },
     "output_type": "display_data"
    }
   ],
   "source": [
    "graficoDados()"
   ]
  },
  {
   "cell_type": "code",
   "execution_count": 29,
   "metadata": {},
   "outputs": [
    {
     "name": "stdout",
     "output_type": "stream",
     "text": [
      "(3, 78.0)\n",
      "(4, 75.0)\n",
      "(5, 74.0)\n",
      "(6, 82.0)\n",
      "(7, 99.0)\n",
      "(8, 90.0)\n",
      "(9, 86.0)\n",
      "(10, 94.0)\n",
      "(11, 62.0)\n",
      "(12, 56.0)\n",
      "(13, 80.0)\n",
      "(14, 85.0)\n",
      "(15, 75.0)\n",
      "(16, 92.0)\n",
      "(17, 51.0)\n",
      "(18, 57.0)\n",
      "(19, 78.0)\n",
      "(20, 93.0)\n",
      "(21, 93.0)\n",
      "(22, 84.0)\n",
      "(23, 66.0)\n",
      "(24, 87.0)\n",
      "(25, 90.0)\n",
      "(26, 60.0)\n",
      "(27, 61.0)\n",
      "(28, 50.0)\n",
      "(29, 89.0)\n",
      "(30, 86.0)\n",
      "(31, 77.0)\n"
     ]
    }
   ],
   "source": [
    "leituraDados()"
   ]
  },
  {
   "cell_type": "code",
   "execution_count": null,
   "metadata": {},
   "outputs": [],
   "source": []
  }
 ],
 "metadata": {
  "kernelspec": {
   "display_name": "Python 3",
   "language": "python",
   "name": "python3"
  },
  "language_info": {
   "codemirror_mode": {
    "name": "ipython",
    "version": 3
   },
   "file_extension": ".py",
   "mimetype": "text/x-python",
   "name": "python",
   "nbconvert_exporter": "python",
   "pygments_lexer": "ipython3",
   "version": "3.7.3"
  }
 },
 "nbformat": 4,
 "nbformat_minor": 2
}
