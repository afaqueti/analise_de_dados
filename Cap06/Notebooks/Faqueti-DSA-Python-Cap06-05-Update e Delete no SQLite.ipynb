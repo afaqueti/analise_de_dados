{
 "cells": [
  {
   "cell_type": "markdown",
   "metadata": {},
   "source": [
    "### Update e Delete"
   ]
  },
  {
   "cell_type": "code",
   "execution_count": 48,
   "metadata": {},
   "outputs": [],
   "source": [
    "import random\n",
    "import datetime\n",
    "import time\n",
    "import sqlite3\n",
    "\n",
    "# Criar uma conexão\n",
    "con = sqlite3.connect('faqdsa.db')\n",
    "\n",
    "# Cria um cursor\n",
    "c = con.cursor()\n",
    "\n",
    "# Função para criar uma tabela\n",
    "def criarTabela():\n",
    "    c.execute('CREATE TABLE IF NOT EXISTS produtos(id INTEGER PRIMARY KEY AUTOINCREMENT NOT NULL, data TEXT, '\\\n",
    "              'prod_name TEXT, valor REAL)')\n",
    "\n",
    "# Criar Registro, usando variaveis\n",
    "def criarRegistro():\n",
    "    new_data = datetime.datetime.now()\n",
    "    new_prod_name = 'Fonte'\n",
    "    new_valor = random.randrange(50,100)   \n",
    "    c.execute(\"INSERT INTO produtos(data, prod_name, valor) VALUES (?, ?, ?)\",(new_data, new_prod_name, new_valor))\n",
    "    con.commit()\n",
    "    \n",
    "\n",
    "# Leitura de Dados referente a tabela\n",
    "def leituraDados():\n",
    "    c.execute('select * from produtos')\n",
    "    for linha in c.fetchall():\n",
    "        print(linha)\n",
    "\n",
    "        \n",
    "# Leitura de dados com where\n",
    "def leituraDadosWhere():\n",
    "    c.execute(\"select * from produtos where id in (22,28)\")\n",
    "    for linha in c.fetchall():\n",
    "        print(linha)\n",
    "        \n",
    "# Leitura da coluna especifica\n",
    "def leituraColuna():\n",
    "    c.execute('select * from produtos')\n",
    "    for linha in c.fetchall():\n",
    "        print(linha[2])\n",
    "\n",
    "\n",
    "# Update\n",
    "def geraUpd():\n",
    "    c.execute('update produtos set valor = 70.0 where valor = 55.0')\n",
    "    con.commit()\n",
    "\n",
    "\n",
    "def eftDelete():\n",
    "    c.execute('delete from produtos where id in(1,2)')\n",
    "    con.commit()"
   ]
  },
  {
   "cell_type": "code",
   "execution_count": 37,
   "metadata": {},
   "outputs": [],
   "source": [
    "criarTabela()"
   ]
  },
  {
   "cell_type": "code",
   "execution_count": 38,
   "metadata": {},
   "outputs": [],
   "source": [
    "criarRegistro()"
   ]
  },
  {
   "cell_type": "code",
   "execution_count": 50,
   "metadata": {},
   "outputs": [
    {
     "name": "stdout",
     "output_type": "stream",
     "text": [
      "(3, '2019-08-22 11:23:12.495228', 'Placa', 78.0)\n",
      "(4, '2019-08-22 11:23:12.500235', 'Placa', 75.0)\n",
      "(5, '2019-08-22 11:23:12.505506', 'Placa', 74.0)\n",
      "(6, '2019-08-22 11:23:12.510060', 'Placa', 82.0)\n",
      "(7, '2019-08-22 11:23:12.514029', 'Placa', 99.0)\n",
      "(8, '2019-08-22 11:23:12.517825', 'Placa', 90.0)\n",
      "(9, '2019-08-22 11:23:12.521863', 'Placa', 86.0)\n",
      "(10, '2019-08-22 11:23:12.525938', 'Placa', 94.0)\n",
      "(11, '2019-08-22 11:23:12.529679', 'Placa', 62.0)\n",
      "(12, '2019-08-22 11:23:12.533716', 'Placa', 56.0)\n",
      "(13, '2019-08-22 11:23:12.537870', 'Placa', 80.0)\n",
      "(14, '2019-08-22 11:23:12.541874', 'Placa', 85.0)\n",
      "(15, '2019-08-22 11:23:12.546006', 'Placa', 75.0)\n",
      "(16, '2019-08-22 11:23:12.549787', 'Placa', 92.0)\n",
      "(17, '2019-08-22 11:23:12.553615', 'Placa', 51.0)\n",
      "(18, '2019-08-22 11:23:12.557501', 'Placa', 57.0)\n",
      "(19, '2019-08-22 11:23:12.561349', 'Placa', 78.0)\n",
      "(20, '2019-08-22 11:23:12.565183', 'Placa', 93.0)\n",
      "(21, '2019-08-22 11:23:12.569488', 'Placa', 93.0)\n",
      "(22, '2019-08-22 11:23:38.178228', 'Fonte', 84.0)\n",
      "(23, '2019-08-22 11:23:39.206273', 'Fonte', 66.0)\n",
      "(24, '2019-08-22 11:23:40.318848', 'Fonte', 87.0)\n",
      "(25, '2019-08-22 11:23:41.331104', 'Fonte', 90.0)\n",
      "(26, '2019-08-22 11:23:42.341514', 'Fonte', 60.0)\n",
      "(27, '2019-08-22 11:23:43.346102', 'Fonte', 61.0)\n",
      "(28, '2019-08-22 11:23:44.352984', 'Fonte', 50.0)\n",
      "(29, '2019-08-22 11:23:45.467291', 'Fonte', 89.0)\n",
      "(30, '2019-08-22 11:23:46.482502', 'Fonte', 86.0)\n",
      "(31, '2019-08-22 11:23:47.489843', 'Fonte', 77.0)\n"
     ]
    }
   ],
   "source": [
    "leituraDados()"
   ]
  },
  {
   "cell_type": "code",
   "execution_count": 44,
   "metadata": {},
   "outputs": [
    {
     "name": "stdout",
     "output_type": "stream",
     "text": [
      "(22, '2019-08-22 11:23:38.178228', 'Fonte', 84.0)\n",
      "(28, '2019-08-22 11:23:44.352984', 'Fonte', 50.0)\n"
     ]
    }
   ],
   "source": [
    "leituraDadosWhere()"
   ]
  },
  {
   "cell_type": "code",
   "execution_count": 46,
   "metadata": {},
   "outputs": [],
   "source": [
    "geraUpd()"
   ]
  },
  {
   "cell_type": "code",
   "execution_count": 49,
   "metadata": {},
   "outputs": [],
   "source": [
    "eftDelete()"
   ]
  },
  {
   "cell_type": "code",
   "execution_count": null,
   "metadata": {},
   "outputs": [],
   "source": []
  }
 ],
 "metadata": {
  "kernelspec": {
   "display_name": "Python 3",
   "language": "python",
   "name": "python3"
  },
  "language_info": {
   "codemirror_mode": {
    "name": "ipython",
    "version": 3
   },
   "file_extension": ".py",
   "mimetype": "text/x-python",
   "name": "python",
   "nbconvert_exporter": "python",
   "pygments_lexer": "ipython3",
   "version": "3.7.3"
  }
 },
 "nbformat": 4,
 "nbformat_minor": 2
}
