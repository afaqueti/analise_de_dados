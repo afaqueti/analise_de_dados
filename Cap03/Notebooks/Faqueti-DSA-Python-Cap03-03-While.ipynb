{
 "cells": [
  {
   "cell_type": "markdown",
   "metadata": {},
   "source": [
    "# <font color='blue'>Data Science Academy - Python Fundamentos - Capítulo 3</font>"
   ]
  },
  {
   "cell_type": "markdown",
   "metadata": {},
   "source": [
    "### while"
   ]
  },
  {
   "cell_type": "code",
   "execution_count": 8,
   "metadata": {},
   "outputs": [
    {
     "name": "stdout",
     "output_type": "stream",
     "text": [
      "1\n",
      "2\n",
      "3\n",
      "4\n",
      "5\n",
      "6\n",
      "7\n",
      "8\n",
      "9\n",
      "10\n"
     ]
    }
   ],
   "source": [
    "# Usando o loop while para imprimir os valores de 0 a 9count = 0\n",
    "while count < 10:\n",
    "    count += 1\n",
    "    print(count)"
   ]
  },
  {
   "cell_type": "code",
   "execution_count": 14,
   "metadata": {},
   "outputs": [
    {
     "name": "stdout",
     "output_type": "stream",
     "text": [
      "1\n",
      "3\n",
      "5\n",
      "7\n",
      "9\n"
     ]
    }
   ],
   "source": [
    "count = 0\n",
    "while count < 10:\n",
    "    count += 1\n",
    "    if count % 2 == 1:\n",
    "        print(count)"
   ]
  },
  {
   "cell_type": "code",
   "execution_count": 18,
   "metadata": {},
   "outputs": [
    {
     "name": "stdout",
     "output_type": "stream",
     "text": [
      "Valor de x nesta iteração é:  0\n",
      "Valor de x nesta iteração é:  1\n",
      "Valor de x nesta iteração é:  2\n",
      "Valor de x nesta iteração é:  3\n",
      "Valor de x nesta iteração é:  4\n",
      "Valor de x nesta iteração é:  5\n",
      "Valor de x nesta iteração é:  6\n",
      "Valor de x nesta iteração é:  7\n",
      "Valor de x nesta iteração é:  8\n",
      "Valor de x nesta iteração é:  9\n",
      "Valor de x nesta iteração é:  10\n",
      "Loop concluido\n"
     ]
    }
   ],
   "source": [
    "# Também é possível usar a claúsula else para encerrar o loop while\n",
    "x = 0\n",
    "while x <= 10:\n",
    "    print('Valor de x nesta iteração é: ',x)\n",
    "    #print('x ainda é menor que 10, somando 1 a x')\n",
    "    x += 1\n",
    "else:\n",
    "    print('Loop concluido')"
   ]
  },
  {
   "cell_type": "markdown",
   "metadata": {},
   "source": [
    "### Pass, Break e Continue"
   ]
  },
  {
   "cell_type": "code",
   "execution_count": 23,
   "metadata": {},
   "outputs": [
    {
     "name": "stdout",
     "output_type": "stream",
     "text": [
      "1\n",
      "2\n",
      "3\n",
      "4\n",
      "sua condição funcionou!\n"
     ]
    }
   ],
   "source": [
    "cont = 0\n",
    "while cont < 100:\n",
    "    if cont == 4:\n",
    "        print('sua condição funcionou!')\n",
    "        break\n",
    "    else:\n",
    "        pass\n",
    "    cont += 1\n",
    "    print(cont)"
   ]
  },
  {
   "cell_type": "code",
   "execution_count": 30,
   "metadata": {},
   "outputs": [
    {
     "name": "stdout",
     "output_type": "stream",
     "text": [
      "y\n",
      "t\n",
      "o\n",
      "n\n"
     ]
    }
   ],
   "source": [
    "for ver in 'Python':\n",
    "    if ver == 'h' or ver == 'P':\n",
    "        continue\n",
    "    print(ver)"
   ]
  },
  {
   "cell_type": "markdown",
   "metadata": {},
   "source": [
    "### While e For Juntos"
   ]
  },
  {
   "cell_type": "code",
   "execution_count": 31,
   "metadata": {},
   "outputs": [
    {
     "name": "stdout",
     "output_type": "stream",
     "text": [
      "2 é número primo!\n",
      "3 é número primo!\n",
      "5 é número primo!\n",
      "7 é número primo!\n",
      "11 é número primo!\n",
      "13 é número primo!\n",
      "17 é número primo!\n",
      "19 é número primo!\n",
      "23 é número primo!\n",
      "29 é número primo!\n"
     ]
    }
   ],
   "source": [
    "# Contar números primos\n",
    "for i in range(2,30):\n",
    "    j = 2\n",
    "    cont = 0\n",
    "    while j < i:\n",
    "        if i % j == 0:\n",
    "            cont = 1\n",
    "            j = j + 1\n",
    "        else:\n",
    "            j = j + 1\n",
    "    if cont == 0:\n",
    "        print(i, 'é número primo!')\n",
    "        cont = 0\n",
    "    else:\n",
    "        cont = 0\n",
    "            \n",
    "            "
   ]
  },
  {
   "cell_type": "code",
   "execution_count": null,
   "metadata": {},
   "outputs": [],
   "source": []
  }
 ],
 "metadata": {
  "kernelspec": {
   "display_name": "Python 3",
   "language": "python",
   "name": "python3"
  },
  "language_info": {
   "codemirror_mode": {
    "name": "ipython",
    "version": 3
   },
   "file_extension": ".py",
   "mimetype": "text/x-python",
   "name": "python",
   "nbconvert_exporter": "python",
   "pygments_lexer": "ipython3",
   "version": "3.7.3"
  }
 },
 "nbformat": 4,
 "nbformat_minor": 2
}
