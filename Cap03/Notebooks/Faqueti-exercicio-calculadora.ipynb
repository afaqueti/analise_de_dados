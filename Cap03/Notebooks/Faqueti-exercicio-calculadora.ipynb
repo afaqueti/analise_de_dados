{
 "cells": [
  {
   "cell_type": "code",
   "execution_count": null,
   "metadata": {},
   "outputs": [],
   "source": [
    "# print('*'*10,'Python Calculadora','*'*10)\n",
    "print('\\n\\nSelecione o número da operação desejada:')\n",
    "print('\\n\\n1 - Soma\\n2 - Subtração\\n3 - Multiplicação\\n4 - Divisão')\n",
    "\n",
    "opc = int(input('\\nDigite sua opção |1 - 2 - 3 - 4|: '))\n",
    "if opc == 1:\n",
    "    num1 = int(input('\\nPrimeiro numero: '))\n",
    "    num2 = int(input('\\nSegundo numero: '))\n",
    "    res_soma = num1 + num2\n",
    "    print(num1,'+',num2,'=',res_soma)\n",
    "elif opc == 2:\n",
    "    num1 = int(input('\\nPrimeiro numero: '))\n",
    "    num2 = int(input('\\nSegundo numero: '))\n",
    "    res_sub = num1 - num2\n",
    "    print(res_sub)\n",
    "elif opc == 3:\n",
    "    num1 = int(input('\\nPrimeiro numero: '))\n",
    "    num2 = int(input('\\nSegundo numero: '))\n",
    "    res_mult = num1 * num2\n",
    "    print(res_mult)\n",
    "elif opc == 4:\n",
    "    num1 = int(input('\\nPrimeiro numero: '))\n",
    "    num2 = int(input('\\nSegundo numero: '))\n",
    "    res_divs = num1 / num2\n",
    "    print(res_divs)\n"
   ]
  },
  {
   "cell_type": "code",
   "execution_count": 24,
   "metadata": {},
   "outputs": [
    {
     "name": "stdout",
     "output_type": "stream",
     "text": [
      "\n",
      "Selecionar o número da operação desejada\n"
     ]
    },
    {
     "name": "stdin",
     "output_type": "stream",
     "text": [
      "\n",
      "Digite sua opção |1 - 2 - 3 - 4| 4\n",
      "\n",
      "Primeiro numero:  2\n",
      "\n",
      "Segundo numero:  2\n"
     ]
    },
    {
     "name": "stdout",
     "output_type": "stream",
     "text": [
      "Resultado da Divisão é =: 1.0\n",
      "None\n"
     ]
    }
   ],
   "source": [
    "print('\\nSelecionar o número da operação desejada')\n",
    "\n",
    "opcao = int(input('\\nDigite sua opção |1 - 2 - 3 - 4|'))\n",
    "if opcao == 1:\n",
    "    n1 = int(input('\\nPrimeiro numero: '))\n",
    "    n2 = int(input('\\nSegundo numero: '))\n",
    "    print(soma(n1,n2))\n",
    "if opcao == 2:\n",
    "    n1 = int(input('\\nPrimeiro numero: '))\n",
    "    n2 = int(input('\\nSegundo numero: '))\n",
    "    print(subt(n1,n2))\n",
    "if opcao == 3:\n",
    "    n1 = int(input('\\nPrimeiro numero: '))\n",
    "    n2 = int(input('\\nSegundo numero: '))\n",
    "    print(mult(n1,n2))\n",
    "if opcao == 4:\n",
    "    n1 = int(input('\\nPrimeiro numero: '))\n",
    "    n2 = int(input('\\nSegundo numero: '))\n",
    "    print(div(n1,n2))  "
   ]
  },
  {
   "cell_type": "code",
   "execution_count": 10,
   "metadata": {},
   "outputs": [],
   "source": [
    "def soma(n1,n2):\n",
    "    print( 'Resultado da Soma é =: ',n1+n2)"
   ]
  },
  {
   "cell_type": "code",
   "execution_count": 6,
   "metadata": {},
   "outputs": [
    {
     "name": "stdout",
     "output_type": "stream",
     "text": [
      "Resultado da Soma e =  3\n"
     ]
    }
   ],
   "source": [
    "soma(1,2)"
   ]
  },
  {
   "cell_type": "code",
   "execution_count": 12,
   "metadata": {},
   "outputs": [],
   "source": [
    "def subt(n1,n2):\n",
    "    print('Resultado da Subtração é =:',n1-n2)"
   ]
  },
  {
   "cell_type": "code",
   "execution_count": 13,
   "metadata": {},
   "outputs": [
    {
     "name": "stdout",
     "output_type": "stream",
     "text": [
      "Resultado da Subtração é =: 0\n"
     ]
    }
   ],
   "source": [
    "subt(2,2)"
   ]
  },
  {
   "cell_type": "code",
   "execution_count": 19,
   "metadata": {},
   "outputs": [],
   "source": [
    "def mult(n1,n2):\n",
    "    print('Resultado da Multiplicação é =:',n1 * n2)"
   ]
  },
  {
   "cell_type": "code",
   "execution_count": 20,
   "metadata": {},
   "outputs": [
    {
     "name": "stdout",
     "output_type": "stream",
     "text": [
      "Resultado da Multiplicação é =: 2\n"
     ]
    }
   ],
   "source": [
    "mult(1,2)"
   ]
  },
  {
   "cell_type": "code",
   "execution_count": 22,
   "metadata": {},
   "outputs": [],
   "source": [
    "def div(n1,n2):\n",
    "    print('Resultado da Divisão é =:',n1/n2)"
   ]
  },
  {
   "cell_type": "code",
   "execution_count": 23,
   "metadata": {},
   "outputs": [
    {
     "name": "stdout",
     "output_type": "stream",
     "text": [
      "Resultado da Divisão é =: 1.0\n"
     ]
    }
   ],
   "source": [
    "div(2,2)"
   ]
  },
  {
   "cell_type": "code",
   "execution_count": null,
   "metadata": {},
   "outputs": [],
   "source": []
  }
 ],
 "metadata": {
  "kernelspec": {
   "display_name": "Python 3",
   "language": "python",
   "name": "python3"
  },
  "language_info": {
   "codemirror_mode": {
    "name": "ipython",
    "version": 3
   },
   "file_extension": ".py",
   "mimetype": "text/x-python",
   "name": "python",
   "nbconvert_exporter": "python",
   "pygments_lexer": "ipython3",
   "version": "3.7.3"
  }
 },
 "nbformat": 4,
 "nbformat_minor": 2
}
