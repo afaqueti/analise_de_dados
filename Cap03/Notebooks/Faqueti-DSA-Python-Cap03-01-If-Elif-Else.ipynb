{
 "cells": [
  {
   "cell_type": "markdown",
   "metadata": {},
   "source": [
    "# <font color='blue'>Data Science Academy - Python Fundamentos - Capítulo 3</font>"
   ]
  },
  {
   "cell_type": "markdown",
   "metadata": {},
   "source": [
    "### Condicional IF"
   ]
  },
  {
   "cell_type": "code",
   "execution_count": 1,
   "metadata": {},
   "outputs": [
    {
     "name": "stdout",
     "output_type": "stream",
     "text": [
      "if está correto\n"
     ]
    }
   ],
   "source": [
    "# Condição if\n",
    "if 5 > 2:\n",
    "    print('if está correto')"
   ]
  },
  {
   "cell_type": "code",
   "execution_count": 2,
   "metadata": {},
   "outputs": [
    {
     "name": "stdout",
     "output_type": "stream",
     "text": [
      "Tem algo errado!\n"
     ]
    }
   ],
   "source": [
    "if 5 < 2:\n",
    "    print('Python Funciona')\n",
    "else:\n",
    "    print('Tem algo errado!')"
   ]
  },
  {
   "cell_type": "code",
   "execution_count": 3,
   "metadata": {},
   "outputs": [
    {
     "data": {
      "text/plain": [
       "True"
      ]
     },
     "execution_count": 3,
     "metadata": {},
     "output_type": "execute_result"
    }
   ],
   "source": [
    "6 > 3"
   ]
  },
  {
   "cell_type": "code",
   "execution_count": 4,
   "metadata": {},
   "outputs": [
    {
     "data": {
      "text/plain": [
       "False"
      ]
     },
     "execution_count": 4,
     "metadata": {},
     "output_type": "execute_result"
    }
   ],
   "source": [
    "7 < 3"
   ]
  },
  {
   "cell_type": "code",
   "execution_count": 5,
   "metadata": {},
   "outputs": [
    {
     "data": {
      "text/plain": [
       "True"
      ]
     },
     "execution_count": 5,
     "metadata": {},
     "output_type": "execute_result"
    }
   ],
   "source": [
    "4 >= 4"
   ]
  },
  {
   "cell_type": "code",
   "execution_count": 6,
   "metadata": {},
   "outputs": [
    {
     "name": "stdout",
     "output_type": "stream",
     "text": [
      "sim\n"
     ]
    }
   ],
   "source": [
    "if 5 == 5:\n",
    "    print('sim')\n",
    "else:\n",
    "    print('não')"
   ]
  },
  {
   "cell_type": "markdown",
   "metadata": {},
   "source": [
    "### Condição aninhada"
   ]
  },
  {
   "cell_type": "code",
   "execution_count": 7,
   "metadata": {},
   "outputs": [
    {
     "name": "stdout",
     "output_type": "stream",
     "text": [
      "não autorizado, seu nome não está correto\n"
     ]
    }
   ],
   "source": [
    "idade = 18\n",
    "nome = 'Bobi'\n",
    "if idade >= 18:\n",
    "    if nome == 'Bob':\n",
    "        print('autorizado')\n",
    "    else:\n",
    "        print('não autorizado, seu nome não está correto')\n",
    "else:\n",
    "    print(nome,' você é menor de idade')\n",
    "    \n"
   ]
  },
  {
   "cell_type": "code",
   "execution_count": 13,
   "metadata": {},
   "outputs": [
    {
     "name": "stdout",
     "output_type": "stream",
     "text": [
      "não\n"
     ]
    }
   ],
   "source": [
    "# sabemos que a condição (and) reflete o resultado, onde as duas condições devem ser verdadeiras\n",
    "if idade >= 18 and nome == 'Bob':\n",
    "    print('autorizado')\n",
    "else:\n",
    "    print('não')"
   ]
  },
  {
   "cell_type": "code",
   "execution_count": 12,
   "metadata": {},
   "outputs": [
    {
     "name": "stdout",
     "output_type": "stream",
     "text": [
      "autorizado\n"
     ]
    }
   ],
   "source": [
    "# nota-se que com a condição (or) o nome \"Bob\" não está correto conforme a variavel, portanto uma das variaveis devem ser verdadeiras. Então se\n",
    "# houver um falso a sondição irá sempre validar a verdadeira.\n",
    "if idade >= 18 or nome == 'Bobi':\n",
    "    print('autorizado')\n",
    "else:\n",
    "    print('não')"
   ]
  },
  {
   "cell_type": "markdown",
   "metadata": {},
   "source": [
    "### Elif"
   ]
  },
  {
   "cell_type": "code",
   "execution_count": 14,
   "metadata": {},
   "outputs": [
    {
     "name": "stdout",
     "output_type": "stream",
     "text": [
      "Vai fazer sol\n"
     ]
    }
   ],
   "source": [
    "dia = 'Terça'\n",
    "if dia == 'Terça':\n",
    "    print('Vai fazer sol')\n",
    "else:\n",
    "    print('Vai chover')"
   ]
  },
  {
   "cell_type": "code",
   "execution_count": 21,
   "metadata": {},
   "outputs": [
    {
     "name": "stdin",
     "output_type": "stream",
     "text": [
      "Digite um dia da semana:  Segunda\n"
     ]
    },
    {
     "name": "stdout",
     "output_type": "stream",
     "text": [
      "Hoje fará sol\n",
      "Digite: 1 , 2 , 3\n"
     ]
    },
    {
     "name": "stdin",
     "output_type": "stream",
     "text": [
      "O que você quer fazer 3\n"
     ]
    },
    {
     "name": "stdout",
     "output_type": "stream",
     "text": [
      "Mais proximo, então vamos relaxar no clube\n"
     ]
    }
   ],
   "source": [
    "dia = str(input('Digite um dia da semana: '))\n",
    "\n",
    "if dia == 'Segunda':\n",
    "    print('Hoje fará sol')\n",
    "    print('Digite: 1 , 2 , 3')\n",
    "    agenda = int(input('O que você quer fazer'))\n",
    "    if agenda == 1:\n",
    "        print('Ok, vamos para praia!')\n",
    "    elif agenda == 2:\n",
    "        print('Que bom então vamos tomar sorvete!')\n",
    "    elif agenda == 3:\n",
    "        print('Mais proximo, então vamos relaxar no clube')\n",
    "        \n",
    "elif dia == 'Terça':\n",
    "    print('Vai chover')\n",
    "    \n",
    "else:\n",
    "    print('Sem previsão')"
   ]
  },
  {
   "cell_type": "code",
   "execution_count": null,
   "metadata": {},
   "outputs": [],
   "source": [
    "dia = str(input('Digite um dia da semana: '))\n",
    "if dia == 'Segunda':\n",
    "    print('Hoje fará sol')\n",
    "    agenda = int(input('O que você quer fazer'))\n",
    "    "
   ]
  },
  {
   "cell_type": "markdown",
   "metadata": {},
   "source": [
    "## Operadores logicos"
   ]
  },
  {
   "cell_type": "code",
   "execution_count": 24,
   "metadata": {},
   "outputs": [
    {
     "name": "stdin",
     "output_type": "stream",
     "text": [
      "Digite o nome da disciplina:  Matematica\n",
      "Digite a note_final entre (0 e 100):  80\n"
     ]
    },
    {
     "name": "stdout",
     "output_type": "stream",
     "text": [
      "Você foi aprovado!\n"
     ]
    }
   ],
   "source": [
    "disciplina = input('Digite o nome da disciplina: ')\n",
    "nota_final = int(input('Digite a note_final entre (0 e 100): '))\n",
    "if disciplina == 'Matematica' and nota_final >= 70:\n",
    "    print('Você foi aprovado!')\n",
    "else:\n",
    "    print('Reprovado')"
   ]
  },
  {
   "cell_type": "code",
   "execution_count": null,
   "metadata": {},
   "outputs": [],
   "source": []
  }
 ],
 "metadata": {
  "kernelspec": {
   "display_name": "Python 3",
   "language": "python",
   "name": "python3"
  },
  "language_info": {
   "codemirror_mode": {
    "name": "ipython",
    "version": 3
   },
   "file_extension": ".py",
   "mimetype": "text/x-python",
   "name": "python",
   "nbconvert_exporter": "python",
   "pygments_lexer": "ipython3",
   "version": "3.7.3"
  }
 },
 "nbformat": 4,
 "nbformat_minor": 2
}
